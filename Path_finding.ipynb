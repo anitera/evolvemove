{
 "cells": [
  {
   "cell_type": "code",
   "execution_count": 9,
   "metadata": {
    "collapsed": true
   },
   "outputs": [],
   "source": [
    "class Point:\n",
    "    def __init__(self, x=None, y=None):        \n",
    "        self.coord = None\n",
    "        if (x is not None) and (y is not None):\n",
    "            self.coord = (x,y)\n",
    "        else:\n",
    "            self.coord = (10,10) #int(random.random() * 200)\n",
    "\n"
   ]
  },
  {
   "cell_type": "code",
   "execution_count": 32,
   "metadata": {
    "collapsed": true
   },
   "outputs": [],
   "source": [
    "import numpy as np\n",
    "\n",
    "class Individ:\n",
    "    def __init__(self, step, size): #, start_point, end_point, our_field):\n",
    "        self.route = np.random.randint(-1,2, size=(2,size))*step  #   step*(-1) / step*1 / step*0\n",
    "        self.individ_size = size\n",
    "        self.fitness = 0\n",
    "        self.setfitness()\n",
    "        \n",
    "    def setfitness(self): #, start_point, end_point, our_field):   #start_point = (x,y)\n",
    "        global start_point\n",
    "        global end_point\n",
    "        global gameField\n",
    "        cumsum = np.cumsum(self.route, axis=1) + np.array(start_point).reshape((2,1))\n",
    "        index = self.checkblocks(cumsum, gameField)\n",
    "        #print ('cumsum ', cumsum[:, index])\n",
    "        distance = np.linalg.norm(cumsum[:, index] - np.array(end_point))      \n",
    "        self.fitness = distance    # check normalization   \n",
    "        \n",
    "    def getfitness(self):\n",
    "        return self.fitness\n",
    "    \n",
    "    def checkblocks(self, cumsum, our_field):\n",
    "        global gameField\n",
    "        for i in range(1, self.individ_size):\n",
    "            if (any(cumsum[:, i] < 0) or (cumsum[0, i] >= gameField.field_size[0]) or (cumsum[1, i] >= gameField.field_size[1])):\n",
    "                return i-1 \n",
    "            elif gameField.getvalue(cumsum[0, i], cumsum[1, i]):\n",
    "                return i-1\n",
    "        return self.individ_size-1\n",
    "    \n",
    "        "
   ]
  },
  {
   "cell_type": "code",
   "execution_count": 11,
   "metadata": {
    "collapsed": true
   },
   "outputs": [],
   "source": [
    "class Field:\n",
    "    def __init__(self, size):\n",
    "        self.matrix = np.zeros(size)\n",
    "        self.matrix[0, :] = 1\n",
    "        self.matrix[:, 0] = 1\n",
    "        self.matrix[:, size[1]-1] = 1\n",
    "        self.matrix[size[0]-1, 0] = 1\n",
    "        self.field_size = size\n",
    "    \n",
    "    def addSquareBlock(self, left_top, right_bottom):  #point = (x,y)\n",
    "        for i in range(left_top[0], right_bottom[0]):\n",
    "            for j in range(left_top[1], right_bottom[1]):\n",
    "                self.matrix[i, j] = 1\n",
    "    \n",
    "    # add diff shapes of blocks\n",
    "        \n",
    "    def getmatrix(self):\n",
    "        return self.matrix\n",
    "    \n",
    "    def getvalue(self,x,y):\n",
    "        return self.matrix[x,y]\n",
    "    \n",
    "        \n",
    "        "
   ]
  },
  {
   "cell_type": "code",
   "execution_count": 12,
   "metadata": {
    "collapsed": true
   },
   "outputs": [],
   "source": [
    "import operator\n",
    "\n",
    "class Population:\n",
    "    def __init__(self, step, individSize, populationSize): #, start_point, end_point, our_field):\n",
    "        self.population = []\n",
    "        #self.fitness = []\n",
    "        for i in range(0, populationSize):\n",
    "            newInd = Individ(step, individSize) #, start_point, end_point, our_field)\n",
    "            self.population.append(newInd)            \n",
    "            #self.fitness.append(newInd.fitness)\n",
    "                \n",
    "    def getFitness(self):\n",
    "        fitness = [x.fitness for x in self.population]\n",
    "        return fitness\n",
    "        #return self.fitness\n",
    "    \n",
    "    def getBest(self,n):        \n",
    "        #sortedPopulation = [pop for _,pop in sorted(zip(self.fitness, self.population), key = lambda x: x[0])]    \n",
    "        sortedPopulation = sorted(self.population,key=operator.attrgetter(\"fitness\"))\n",
    "        if n==1:\n",
    "            return sortedPopulation[0]\n",
    "        else:\n",
    "            return sortedPopulation[:n]\n",
    "    \n",
    "    def add_individ(self, newIndivid):\n",
    "        self.population.append(newIndivid)\n",
    "        #self.fitness.append(newIndivid.fitness)\n",
    "    \n",
    "        \n",
    "    \n",
    "    "
   ]
  },
  {
   "cell_type": "code",
   "execution_count": 98,
   "metadata": {
    "collapsed": true
   },
   "outputs": [],
   "source": [
    "import random\n",
    "import copy\n",
    "\n",
    "class GA:\n",
    "    def __init__(self, user_mutationRate, user_crossoverProbability, user_elitism):#, start_point, end_point, our_field): #, tourmanager):\n",
    "        #self.tourmanager = tourmanager\n",
    "        self.mutationRate = user_mutationRate\n",
    "        #self.tournamentSize = 10\n",
    "        self.crossoverProbability = user_crossoverProbability\n",
    "        self.elitism = user_elitism\n",
    "        #self.start_point = start_point\n",
    "        #self.end_point = end_point\n",
    "        #self.our_field = our_field\n",
    "        \n",
    "    def CreateFirstPopulation(self, user_step, user_individSize, user_populationSize):\n",
    "        initialPop = Population(step=user_step, individSize=user_individSize, populationSize=user_populationSize) \n",
    "                                #start_point=self.start_point, end_point=self.end_point, our_field=self.our_field)\n",
    "        return initialPop\n",
    "        \n",
    "    def chooseParents(self, generation):\n",
    "        #print ('parent fitness ', newPopulation.fitness)\n",
    "        reversed_fitness = 1.0/np.array(generation.getFitness())\n",
    "        select_prob = reversed_fitness/sum(reversed_fitness)\n",
    "        #print ('select prob ', select_prob)\n",
    "        #add tournamentsize\n",
    "        selected = np.random.choice(generation.population, 2, replace=False)#p=select_prob, replace=False)\n",
    "        return list(selected)\n",
    "    \n",
    "    def get_breakes(self,n):\n",
    "        break1,break2 = random.sample(range(0, n), 2)\n",
    "        if break1<break2: \n",
    "            return(break1,break2)\n",
    "        else:\n",
    "            return(break2,break1)\n",
    "    \n",
    "    def crossover(self, parents):        \n",
    "        #print('fitness parent 1 ', parents[0].fitness)\n",
    "        #print('fitness parent 2 ', parents[1].fitness)\n",
    "        children = copy.deepcopy(parents)\n",
    "        #print('children ',children)\n",
    "        #print('parents ',parents)\n",
    "        pp = random.random()\n",
    "        #print('route before crossover ', parents[0].route)\n",
    "        if pp <= self.crossoverProbability:  \n",
    "            startPos,endPos = self.get_breakes(parents[0].individ_size)\n",
    "            #print('breaks ', startPos, endPos) \n",
    "            children[0].route[:, startPos:endPos], children[1].route[:, startPos:endPos] = \\\n",
    "                copy.deepcopy(children[1].route[:, startPos:endPos]), copy.deepcopy(children[0].route[:, startPos:endPos])            \n",
    "            #print('crossover yes')\n",
    "            #print('route after crossover ', children[0].route)\n",
    "        \n",
    "        return children\n",
    "    \n",
    "    def mutate(self, children):\n",
    "        if random.random() < self.mutationRate:\n",
    "            indx = random.randint(0, children[0].individ_size-1)\n",
    "            children[0].route[0, indx], children[0].route[1, indx] = children[0].route[1, indx].copy(), children[0].route[0, indx].copy()\n",
    "            #print('child one mutate')\n",
    "            #print('route after mutation 1 ', children[0].route)\n",
    "        if random.random() < self.mutationRate:\n",
    "            indx = random.randint(0, children[1].individ_size-1)\n",
    "            children[1].route[0, indx], children[1].route[1, indx] = children[1].route[1, indx].copy(), children[1].route[0, indx].copy()\n",
    "            #print('child two mutate')\n",
    "            #print('route after mutation 1 ', children[1].route)\n",
    "            \n",
    "        return children\n",
    "    \n",
    "    def fittest(self, child_list, n): # n - how much return\n",
    "        child_list.sort(key = lambda x: x.fitness)\n",
    "        return child_list[:n]\n",
    "              \n",
    "        \n",
    "    def evolve(self, step, individSize, populationSize, generation, user_chooseFromAll):  #generation - previous population\n",
    "\n",
    "        children_list = []\n",
    "        for i in range(populationSize):\n",
    "            #choose parents\n",
    "            parents = self.chooseParents(generation)\n",
    "\n",
    "            #make 2 children\n",
    "            children = self.crossover(parents)\n",
    "\n",
    "            #mutate\n",
    "            children = self.mutate(children)\n",
    "\n",
    "            children[0].setfitness()#self.start_point, self.end_point, self.our_field)\n",
    "            children[1].setfitness()#self.start_point, self.end_point, self.our_field)\n",
    "            \n",
    "            #print('fitness children 1 ', children[0].fitness)\n",
    "            #print('fitness children 2 ', children[1].fitness)\n",
    "\n",
    "            children_list = children_list + children\n",
    "        \n",
    "    \n",
    "        #Create new generation with elitism?\n",
    "        if user_chooseFromAll:\n",
    "            newPopulation = Population(step = step, individSize = individSize, populationSize = 0) \n",
    "                                       #start_point = self.start_point, end_point = self.end_point, our_field = self.our_field)\n",
    "            for child in children_list:\n",
    "                generation.add_individ(child)\n",
    "            best_individs = generation.getBest(populationSize)\n",
    "            for individ in best_individs:\n",
    "                newPopulation.add_individ(individ)\n",
    "        else:\n",
    "            newPopulation = Population(step = step, individSize = individSize, populationSize = 0) \n",
    "                                       #start_point = self.start_point, end_point = self.end_point, our_field = self.our_field)\n",
    "            if self.elitism:\n",
    "                newPopulation.add_individ(generation.getBest(1))                \n",
    "                best_children = self.fittest(children_list, populationSize-1)\n",
    "            else:\n",
    "                best_children = self.fittest(children_list, populationSize)\n",
    "            for child in best_children:\n",
    "                newPopulation.add_individ(child)       \n",
    "               \n",
    "        #print('new population fitness', newPopulation.fitness)\n",
    "        #print('new population size', len(newPopulation.population))                  \n",
    "        return newPopulation\n",
    "        "
   ]
  },
  {
   "cell_type": "code",
   "execution_count": 102,
   "metadata": {
    "scrolled": true
   },
   "outputs": [
    {
     "name": "stdout",
     "output_type": "stream",
     "text": [
      "evolve function: \n",
      "min fitness  127.914033632\n",
      "min fitness  127.914033632\n",
      "min fitness  103.966340707\n",
      "min fitness  103.966340707\n",
      "min fitness  101.823376491\n",
      "min fitness  101.823376491\n",
      "min fitness  101.823376491\n",
      "min fitness  101.823376491\n",
      "min fitness  101.823376491\n",
      "min fitness  101.823376491\n",
      "min fitness  101.823376491\n",
      "min fitness  101.118742081\n",
      "min fitness  101.118742081\n",
      "min fitness  101.118742081\n",
      "min fitness  101.118742081\n",
      "min fitness  101.118742081\n",
      "min fitness  101.118742081\n",
      "min fitness  101.118742081\n",
      "min fitness  101.118742081\n",
      "min fitness  101.118742081\n",
      "min fitness  101.118742081\n",
      "min fitness  101.118742081\n",
      "min fitness  101.118742081\n",
      "min fitness  101.118742081\n",
      "min fitness  101.118742081\n",
      "min fitness  101.118742081\n",
      "min fitness  101.118742081\n",
      "min fitness  101.118742081\n",
      "min fitness  101.118742081\n",
      "min fitness  101.118742081\n",
      "min fitness  101.118742081\n",
      "min fitness  101.118742081\n",
      "min fitness  101.118742081\n",
      "min fitness  101.118742081\n"
     ]
    },
    {
     "ename": "KeyboardInterrupt",
     "evalue": "",
     "output_type": "error",
     "traceback": [
      "\u001b[1;31m---------------------------------------------------------------------------\u001b[0m",
      "\u001b[1;31mKeyboardInterrupt\u001b[0m                         Traceback (most recent call last)",
      "\u001b[1;32m<ipython-input-102-ab3e48ec73ed>\u001b[0m in \u001b[0;36m<module>\u001b[1;34m()\u001b[0m\n\u001b[0;32m     24\u001b[0m \u001b[1;32mfor\u001b[0m \u001b[0mi\u001b[0m \u001b[1;32min\u001b[0m \u001b[0mrange\u001b[0m\u001b[1;33m(\u001b[0m\u001b[1;36m0\u001b[0m\u001b[1;33m,\u001b[0m\u001b[1;36m100\u001b[0m\u001b[1;33m)\u001b[0m\u001b[1;33m:\u001b[0m\u001b[1;33m\u001b[0m\u001b[0m\n\u001b[0;32m     25\u001b[0m     initialPop = ga.evolve(step = step, individSize = individSize, populationSize = populationSize, generation = initialPop, \n\u001b[1;32m---> 26\u001b[1;33m                           user_chooseFromAll = chooseFromAll)    \n\u001b[0m\u001b[0;32m     27\u001b[0m     \u001b[1;31m#print('all fitness ', initialPop.getFitness())\u001b[0m\u001b[1;33m\u001b[0m\u001b[1;33m\u001b[0m\u001b[0m\n\u001b[0;32m     28\u001b[0m     \u001b[0mprint\u001b[0m\u001b[1;33m(\u001b[0m\u001b[1;34m'min fitness '\u001b[0m\u001b[1;33m,\u001b[0m \u001b[0mmin\u001b[0m\u001b[1;33m(\u001b[0m\u001b[0minitialPop\u001b[0m\u001b[1;33m.\u001b[0m\u001b[0mgetFitness\u001b[0m\u001b[1;33m(\u001b[0m\u001b[1;33m)\u001b[0m\u001b[1;33m)\u001b[0m\u001b[1;33m)\u001b[0m\u001b[1;33m\u001b[0m\u001b[0m\n",
      "\u001b[1;32m<ipython-input-98-dad2e1131cbb>\u001b[0m in \u001b[0;36mevolve\u001b[1;34m(self, step, individSize, populationSize, generation, user_chooseFromAll)\u001b[0m\n\u001b[0;32m     83\u001b[0m             \u001b[0mchildren\u001b[0m \u001b[1;33m=\u001b[0m \u001b[0mself\u001b[0m\u001b[1;33m.\u001b[0m\u001b[0mmutate\u001b[0m\u001b[1;33m(\u001b[0m\u001b[0mchildren\u001b[0m\u001b[1;33m)\u001b[0m\u001b[1;33m\u001b[0m\u001b[0m\n\u001b[0;32m     84\u001b[0m \u001b[1;33m\u001b[0m\u001b[0m\n\u001b[1;32m---> 85\u001b[1;33m             \u001b[0mchildren\u001b[0m\u001b[1;33m[\u001b[0m\u001b[1;36m0\u001b[0m\u001b[1;33m]\u001b[0m\u001b[1;33m.\u001b[0m\u001b[0msetfitness\u001b[0m\u001b[1;33m(\u001b[0m\u001b[1;33m)\u001b[0m\u001b[1;31m#self.start_point, self.end_point, self.our_field)\u001b[0m\u001b[1;33m\u001b[0m\u001b[0m\n\u001b[0m\u001b[0;32m     86\u001b[0m             \u001b[0mchildren\u001b[0m\u001b[1;33m[\u001b[0m\u001b[1;36m1\u001b[0m\u001b[1;33m]\u001b[0m\u001b[1;33m.\u001b[0m\u001b[0msetfitness\u001b[0m\u001b[1;33m(\u001b[0m\u001b[1;33m)\u001b[0m\u001b[1;31m#self.start_point, self.end_point, self.our_field)\u001b[0m\u001b[1;33m\u001b[0m\u001b[0m\n\u001b[0;32m     87\u001b[0m \u001b[1;33m\u001b[0m\u001b[0m\n",
      "\u001b[1;32m<ipython-input-32-7da173871422>\u001b[0m in \u001b[0;36msetfitness\u001b[1;34m(self)\u001b[0m\n\u001b[0;32m     15\u001b[0m         \u001b[0mindex\u001b[0m \u001b[1;33m=\u001b[0m \u001b[0mself\u001b[0m\u001b[1;33m.\u001b[0m\u001b[0mcheckblocks\u001b[0m\u001b[1;33m(\u001b[0m\u001b[0mcumsum\u001b[0m\u001b[1;33m,\u001b[0m \u001b[0mgameField\u001b[0m\u001b[1;33m)\u001b[0m\u001b[1;33m\u001b[0m\u001b[0m\n\u001b[0;32m     16\u001b[0m         \u001b[1;31m#print ('cumsum ', cumsum[:, index])\u001b[0m\u001b[1;33m\u001b[0m\u001b[1;33m\u001b[0m\u001b[0m\n\u001b[1;32m---> 17\u001b[1;33m         \u001b[0mdistance\u001b[0m \u001b[1;33m=\u001b[0m \u001b[0mnp\u001b[0m\u001b[1;33m.\u001b[0m\u001b[0mlinalg\u001b[0m\u001b[1;33m.\u001b[0m\u001b[0mnorm\u001b[0m\u001b[1;33m(\u001b[0m\u001b[0mcumsum\u001b[0m\u001b[1;33m[\u001b[0m\u001b[1;33m:\u001b[0m\u001b[1;33m,\u001b[0m \u001b[0mindex\u001b[0m\u001b[1;33m]\u001b[0m \u001b[1;33m-\u001b[0m \u001b[0mnp\u001b[0m\u001b[1;33m.\u001b[0m\u001b[0marray\u001b[0m\u001b[1;33m(\u001b[0m\u001b[0mend_point\u001b[0m\u001b[1;33m)\u001b[0m\u001b[1;33m)\u001b[0m\u001b[1;33m\u001b[0m\u001b[0m\n\u001b[0m\u001b[0;32m     18\u001b[0m         \u001b[0mself\u001b[0m\u001b[1;33m.\u001b[0m\u001b[0mfitness\u001b[0m \u001b[1;33m=\u001b[0m \u001b[0mdistance\u001b[0m    \u001b[1;31m# check normalization\u001b[0m\u001b[1;33m\u001b[0m\u001b[0m\n\u001b[0;32m     19\u001b[0m \u001b[1;33m\u001b[0m\u001b[0m\n",
      "\u001b[1;32mC:\\Anaconda3\\lib\\site-packages\\numpy\\linalg\\linalg.py\u001b[0m in \u001b[0;36mnorm\u001b[1;34m(x, ord, axis, keepdims)\u001b[0m\n\u001b[0;32m   2173\u001b[0m                 \u001b[0msqnorm\u001b[0m \u001b[1;33m=\u001b[0m \u001b[0mdot\u001b[0m\u001b[1;33m(\u001b[0m\u001b[0mx\u001b[0m\u001b[1;33m.\u001b[0m\u001b[0mreal\u001b[0m\u001b[1;33m,\u001b[0m \u001b[0mx\u001b[0m\u001b[1;33m.\u001b[0m\u001b[0mreal\u001b[0m\u001b[1;33m)\u001b[0m \u001b[1;33m+\u001b[0m \u001b[0mdot\u001b[0m\u001b[1;33m(\u001b[0m\u001b[0mx\u001b[0m\u001b[1;33m.\u001b[0m\u001b[0mimag\u001b[0m\u001b[1;33m,\u001b[0m \u001b[0mx\u001b[0m\u001b[1;33m.\u001b[0m\u001b[0mimag\u001b[0m\u001b[1;33m)\u001b[0m\u001b[1;33m\u001b[0m\u001b[0m\n\u001b[0;32m   2174\u001b[0m             \u001b[1;32melse\u001b[0m\u001b[1;33m:\u001b[0m\u001b[1;33m\u001b[0m\u001b[0m\n\u001b[1;32m-> 2175\u001b[1;33m                 \u001b[0msqnorm\u001b[0m \u001b[1;33m=\u001b[0m \u001b[0mdot\u001b[0m\u001b[1;33m(\u001b[0m\u001b[0mx\u001b[0m\u001b[1;33m,\u001b[0m \u001b[0mx\u001b[0m\u001b[1;33m)\u001b[0m\u001b[1;33m\u001b[0m\u001b[0m\n\u001b[0m\u001b[0;32m   2176\u001b[0m             \u001b[0mret\u001b[0m \u001b[1;33m=\u001b[0m \u001b[0msqrt\u001b[0m\u001b[1;33m(\u001b[0m\u001b[0msqnorm\u001b[0m\u001b[1;33m)\u001b[0m\u001b[1;33m\u001b[0m\u001b[0m\n\u001b[0;32m   2177\u001b[0m             \u001b[1;32mif\u001b[0m \u001b[0mkeepdims\u001b[0m\u001b[1;33m:\u001b[0m\u001b[1;33m\u001b[0m\u001b[0m\n",
      "\u001b[1;31mKeyboardInterrupt\u001b[0m: "
     ]
    }
   ],
   "source": [
    "# common parameters for all users\n",
    "gameField = Field(size = (30, 30))\n",
    "#start_point = Point(x = 2, y = 2)\n",
    "#end_point = Point(x = 100, y = 100)\n",
    "start_point = (0, 0)\n",
    "end_point = (100, 100)\n",
    "\n",
    "# parameters of one user\n",
    "mutationRate=0.2\n",
    "crossoverProbability=0.9\n",
    "elitism=True\n",
    "step=1\n",
    "individSize=1000\n",
    "populationSize=200\n",
    "chooseFromAll = False\n",
    "#chooseFromAll = True\n",
    "\n",
    "ga = GA(user_mutationRate=mutationRate, user_crossoverProbability=crossoverProbability, user_elitism=elitism) \n",
    "       # start_point=startpoint, end_point=endpoint, our_field=gameField)\n",
    "initialPop = ga.CreateFirstPopulation(user_step=step, user_individSize=individSize, user_populationSize=populationSize)\n",
    "\n",
    "print('evolve function: ')\n",
    "#while not any(np.array(initialPop.getFitness()) < 2):\n",
    "for i in range(0,100):\n",
    "    initialPop = ga.evolve(step = step, individSize = individSize, populationSize = populationSize, generation = initialPop, \n",
    "                          user_chooseFromAll = chooseFromAll)    \n",
    "    #print('all fitness ', initialPop.getFitness())\n",
    "    print('min fitness ', min(initialPop.getFitness()))\n",
    "    #if min(initialPop.getFitness())<102:\n",
    "        #print('all fitness ', initialPop.getFitness())\n",
    "        #print('best route ', initialPop.getBest(1).route)"
   ]
  },
  {
   "cell_type": "code",
   "execution_count": 85,
   "metadata": {},
   "outputs": [
    {
     "name": "stdout",
     "output_type": "stream",
     "text": [
      "[[-2  2 -2  0  2]\n",
      " [ 0  0  2  2 -2]]\n",
      "[[ 0  0  1 -1  0]\n",
      " [ 0  0 -1  0  1]]\n"
     ]
    }
   ],
   "source": [
    "a = np.random.randint(-1,2, size=(2,5))*2\n",
    "b = np.random.randint(-1,2, size=(2,5))*1\n",
    "i = 2\n",
    "j = 4\n",
    "print (a)\n",
    "print (b)"
   ]
  },
  {
   "cell_type": "code",
   "execution_count": 60,
   "metadata": {},
   "outputs": [
    {
     "name": "stdout",
     "output_type": "stream",
     "text": [
      "[[ 0  2 -1 -1 -2]\n",
      " [ 0 -2  1 -1  0]]\n"
     ]
    }
   ],
   "source": [
    "a[:, i:j] = copy.deepcopy(b[:, i:j])\n",
    "print(a)"
   ]
  },
  {
   "cell_type": "code",
   "execution_count": 61,
   "metadata": {},
   "outputs": [
    {
     "name": "stdout",
     "output_type": "stream",
     "text": [
      "a =  [[ 0  2 -1 -1 -2]\n",
      " [ 0 -2  1 -1  0]]\n",
      "b =  [[ 0  1 -1 -1  0]\n",
      " [ 0  1  1 -1  0]]\n"
     ]
    }
   ],
   "source": [
    "b[:, i:j] = copy.deepcopy(a[:, i:j])\n",
    "print ('a = ', a)\n",
    "print ('b = ', b)"
   ]
  },
  {
   "cell_type": "code",
   "execution_count": null,
   "metadata": {
    "collapsed": true
   },
   "outputs": [],
   "source": []
  }
 ],
 "metadata": {
  "kernelspec": {
   "display_name": "Python 3",
   "language": "python",
   "name": "python3"
  },
  "language_info": {
   "codemirror_mode": {
    "name": "ipython",
    "version": 3
   },
   "file_extension": ".py",
   "mimetype": "text/x-python",
   "name": "python",
   "nbconvert_exporter": "python",
   "pygments_lexer": "ipython3",
   "version": "3.6.1"
  }
 },
 "nbformat": 4,
 "nbformat_minor": 2
}
