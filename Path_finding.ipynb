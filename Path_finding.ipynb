{
 "cells": [
  {
   "cell_type": "code",
   "execution_count": 1,
   "metadata": {
    "collapsed": true
   },
   "outputs": [],
   "source": [
    "class StartPoint:\n",
    "    def __init__(self, x=None, y=None):        \n",
    "        self.x = None\n",
    "        self.y = None\n",
    "        if x is not None:\n",
    "            self.x = x\n",
    "        else:\n",
    "            self.x = 10 #int(random.random() * 200)\n",
    "        if y is not None:\n",
    "            self.y = y\n",
    "        else:\n",
    "            self.y = 10 #int(random.random() * 200)\n",
    "   \n",
    "    def getX(self):\n",
    "        return self.x\n",
    "   \n",
    "    def getY(self):\n",
    "        return self.y\n",
    "\n",
    "\n"
   ]
  },
  {
   "cell_type": "code",
   "execution_count": null,
   "metadata": {
    "collapsed": true
   },
   "outputs": [],
   "source": [
    "import numpy as np\n",
    "\n",
    "class Individ:\n",
    "    def __init__(self, step, size):\n",
    "        self.route = np.random.random_integers(-1,1, size=(2,size))*step  #   step*(-1) / step*1 / step*0\n",
    "        self.fitness = 0\n",
    "        self.individ_size = size\n",
    "        \n",
    "    def getfitness(self, start_point, end_point, our_field):   #start_point = (x,y)\n",
    "        cumsum = np.cumsum(self.route, axis=1) + np.array(start_point).reshape((2,1))\n",
    "        index = checkblocks(cumsum, our_field)\n",
    "        distance = np.linalg.norm(cumsum[:, index], np.array(end_point).reshape((2,1)))\n",
    "        \n",
    "        self.fitness = distance    # check normalization       \n",
    "                \n",
    "        return self.fitness\n",
    "    \n",
    "    def checkblocks(self, cumsum, our_field):\n",
    "        for i in range(1, self.individ_size):\n",
    "            if any (cumsum[:, i] < 0 or cumsum[:, i] < size-1):\n",
    "                return i-1 \n",
    "            elif our_field.getvalue(cumsum[0, i], cumsum[1, i]):\n",
    "                return i-1\n",
    "        return self.individ_size\n",
    "    \n",
    "        "
   ]
  },
  {
   "cell_type": "code",
   "execution_count": 12,
   "metadata": {},
   "outputs": [
    {
     "data": {
      "text/plain": [
       "array([[False],\n",
       "       [ True]], dtype=bool)"
      ]
     },
     "execution_count": 12,
     "metadata": {},
     "output_type": "execute_result"
    }
   ],
   "source": [
    "import numpy as np\n",
    "\n",
    "a = np.array((1, 2)).reshape((2, 1))\n",
    "a>1"
   ]
  },
  {
   "cell_type": "code",
   "execution_count": null,
   "metadata": {
    "collapsed": true
   },
   "outputs": [],
   "source": [
    "class Field:\n",
    "    def __init__(self, size):\n",
    "        self.matrix = np.zeros(size)\n",
    "        self.matrix[0, :] = 1\n",
    "        self.matrix[:, 0] = 1\n",
    "        self.matrix[:, size[1]-1] = 1\n",
    "        self.matrix[size[0]-1, 0] = 1\n",
    "        self.field_size = size\n",
    "    \n",
    "    def addSquareBlock(self, left_top, right_bottom):  #point = (x,y)\n",
    "        for i in range(left_top[0], right_bottom[0]):\n",
    "            for j in range(left_top[1], right_bottom[1]):\n",
    "                self.matrix[i, j] = 1\n",
    "    \n",
    "    # add diff shapes of blocks\n",
    "        \n",
    "    def getmatrix(self):\n",
    "        return self.matrix\n",
    "    \n",
    "    def getvalue(self,x,y):\n",
    "        return self.matrix[x,y]\n",
    "    \n",
    "        \n",
    "        "
   ]
  }
 ],
 "metadata": {
  "kernelspec": {
   "display_name": "Python 3",
   "language": "python",
   "name": "python3"
  },
  "language_info": {
   "codemirror_mode": {
    "name": "ipython",
    "version": 3
   },
   "file_extension": ".py",
   "mimetype": "text/x-python",
   "name": "python",
   "nbconvert_exporter": "python",
   "pygments_lexer": "ipython3",
   "version": "3.6.1"
  }
 },
 "nbformat": 4,
 "nbformat_minor": 2
}
